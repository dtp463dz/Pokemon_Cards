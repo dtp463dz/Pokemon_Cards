{
 "cells": [
  {
   "cell_type": "code",
   "execution_count": 1,
   "metadata": {},
   "outputs": [
    {
     "name": "stdout",
     "output_type": "stream",
     "text": [
      "Requirement already satisfied: requests in c:\\users\\admin\\appdata\\local\\programs\\python\\python312\\lib\\site-packages (2.32.2)\n",
      "Requirement already satisfied: beautifulsoup4 in c:\\users\\admin\\appdata\\local\\programs\\python\\python312\\lib\\site-packages (4.12.3)\n",
      "Requirement already satisfied: charset-normalizer<4,>=2 in c:\\users\\admin\\appdata\\local\\programs\\python\\python312\\lib\\site-packages (from requests) (3.3.2)\n",
      "Requirement already satisfied: idna<4,>=2.5 in c:\\users\\admin\\appdata\\local\\programs\\python\\python312\\lib\\site-packages (from requests) (3.7)\n",
      "Requirement already satisfied: urllib3<3,>=1.21.1 in c:\\users\\admin\\appdata\\local\\programs\\python\\python312\\lib\\site-packages (from requests) (2.2.1)\n",
      "Requirement already satisfied: certifi>=2017.4.17 in c:\\users\\admin\\appdata\\local\\programs\\python\\python312\\lib\\site-packages (from requests) (2024.2.2)\n",
      "Requirement already satisfied: soupsieve>1.2 in c:\\users\\admin\\appdata\\local\\programs\\python\\python312\\lib\\site-packages (from beautifulsoup4) (2.6)\n",
      "Note: you may need to restart the kernel to use updated packages.\n"
     ]
    },
    {
     "name": "stderr",
     "output_type": "stream",
     "text": [
      "\n",
      "[notice] A new release of pip is available: 24.1.2 -> 24.2\n",
      "[notice] To update, run: python.exe -m pip install --upgrade pip\n"
     ]
    }
   ],
   "source": [
    "pip install requests beautifulsoup4"
   ]
  },
  {
   "cell_type": "code",
   "execution_count": 2,
   "metadata": {},
   "outputs": [],
   "source": [
    "import requests\n",
    "from bs4 import BeautifulSoup\n",
    "import csv\n",
    "\n",
    "# Tải trang web\n",
    "url = 'https://pokemondb.net/pokedex/all'\n",
    "response = requests.get(url)\n",
    "html_content = response.content\n",
    "\n",
    "# Phân tích HTML\n",
    "soup = BeautifulSoup(html_content, 'html.parser')\n",
    "\n",
    "# Tìm tất cả các dòng dữ liệu Pokemon\n",
    "pokemon_rows = soup.select('tr')[1:]  # Bỏ qua dòng đầu tiên (tiêu đề)\n",
    "\n",
    "# Mở file CSV để ghi dữ liệu\n",
    "with open('pokemon_data_22.csv', mode='w', newline='', encoding='utf-8') as file:\n",
    "    writer = csv.writer(file)\n",
    "\n",
    "    # Viết tiêu đề cho các cột\n",
    "    writer.writerow(['#', 'Name', 'Type', 'Total', 'HP', 'Attack', 'Defense', 'Sp.Atk', 'Sp.Def', 'Speed'])\n",
    "\n",
    "    # Lặp qua từng dòng dữ liệu Pokemon\n",
    "    for row in pokemon_rows:\n",
    "        cells = row.select('td')\n",
    "\n",
    "        # Trích xuất thông tin cần thiết\n",
    "        pokedex_number = cells[0].select_one('span.infocard-cell-data').text\n",
    "        name = cells[1].select_one('a.ent-name').text.strip()\n",
    "        types = [type.text for type in cells[2].select('a.type-icon')]\n",
    "        stats = [stat.text for stat in cells[3:]]\n",
    "\n",
    "        # Gộp Type1 và Type2\n",
    "        type_combined = ' '.join(types)\n",
    "\n",
    "        # Ghi dữ liệu vào file CSV\n",
    "        writer.writerow([\n",
    "            pokedex_number,\n",
    "            name,\n",
    "            type_combined,  # Gộp Type1 và Type2\n",
    "            stats[0],  # Total\n",
    "            stats[1],  # HP\n",
    "            stats[2],  # Attack\n",
    "            stats[3],  # Defense\n",
    "            stats[4],  # Sp.Atk\n",
    "            stats[5],  # Sp.Def\n",
    "            stats[6]   # Speed\n",
    "        ])"
   ]
  },
  {
   "cell_type": "markdown",
   "metadata": {},
   "source": [
    "## Chuyển thành JSON\n"
   ]
  },
  {
   "cell_type": "code",
   "execution_count": 3,
   "metadata": {},
   "outputs": [
    {
     "name": "stdout",
     "output_type": "stream",
     "text": [
      "Data from pokemon_data_22.csv has been successfully converted to pokemon_data.json\n"
     ]
    }
   ],
   "source": [
    "import csv\n",
    "import json\n",
    "\n",
    "def csv_to_json(csv_file_path, json_file_path):\n",
    "    data = []\n",
    "    \n",
    "    # Đọc file CSV\n",
    "    with open(csv_file_path, mode='r') as csv_file:\n",
    "        csv_reader = csv.DictReader(csv_file)\n",
    "        \n",
    "        # Chuyển từng dòng của file CSV thành dictionary và thêm vào list\n",
    "        for row in csv_reader:\n",
    "            data.append(row)\n",
    "    \n",
    "    # Ghi dữ liệu sang file JSON\n",
    "    with open(json_file_path, mode='w') as json_file:\n",
    "        json.dump(data, json_file, indent=4)\n",
    "    \n",
    "    print(f\"Data from {csv_file_path} has been successfully converted to {json_file_path}\")\n",
    "\n",
    "# Sử dụng hàm\n",
    "csv_to_json('pokemon_data_22.csv', 'pokemon_data.json')\n"
   ]
  },
  {
   "cell_type": "markdown",
   "metadata": {},
   "source": [
    "#### Thêm ảnh\n"
   ]
  },
  {
   "cell_type": "code",
   "execution_count": 5,
   "metadata": {},
   "outputs": [
    {
     "name": "stdout",
     "output_type": "stream",
     "text": [
      "Data with images from pokemon_data_22.csv has been successfully converted to pokemonData.json\n"
     ]
    }
   ],
   "source": [
    "import csv\n",
    "import json\n",
    "\n",
    "def csv_to_json_with_images(csv_file_path, json_file_path):\n",
    "    data = []\n",
    "    \n",
    "    # Đọc file CSV\n",
    "    with open(csv_file_path, mode='r') as csv_file:\n",
    "        csv_reader = csv.DictReader(csv_file)\n",
    "        \n",
    "        for row in csv_reader:\n",
    "            # Thêm trường image_url với link hình ảnh dựa trên cột ID (#)\n",
    "            row['image_url'] = f\"https://raw.githubusercontent.com/PokeAPI/sprites/master/sprites/pokemon/{int(row['#'])}.png\"\n",
    "            data.append(row)\n",
    "    \n",
    "    # Ghi dữ liệu sang file JSON\n",
    "    with open(json_file_path, mode='w') as json_file:\n",
    "        json.dump(data, json_file, indent=4)\n",
    "    \n",
    "    print(f\"Data with images from {csv_file_path} has been successfully converted to {json_file_path}\")\n",
    "\n",
    "# Sử dụng hàm\n",
    "csv_to_json_with_images('pokemon_data_22.csv', 'pokemonData.json')\n"
   ]
  }
 ],
 "metadata": {
  "kernelspec": {
   "display_name": "Python 3",
   "language": "python",
   "name": "python3"
  },
  "language_info": {
   "codemirror_mode": {
    "name": "ipython",
    "version": 3
   },
   "file_extension": ".py",
   "mimetype": "text/x-python",
   "name": "python",
   "nbconvert_exporter": "python",
   "pygments_lexer": "ipython3",
   "version": "3.12.3"
  }
 },
 "nbformat": 4,
 "nbformat_minor": 2
}
